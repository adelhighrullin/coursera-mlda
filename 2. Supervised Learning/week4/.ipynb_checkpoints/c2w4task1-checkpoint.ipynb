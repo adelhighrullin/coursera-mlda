{
 "cells": [
  {
   "cell_type": "code",
   "execution_count": 1,
   "metadata": {},
   "outputs": [],
   "source": [
    "import sklearn\n",
    "from sklearn import datasets, model_selection, tree, ensemble\n",
    "import math"
   ]
  },
  {
   "cell_type": "code",
   "execution_count": 2,
   "metadata": {},
   "outputs": [],
   "source": [
    "data = sklearn.datasets.load_digits()\n",
    "X = data.data\n",
    "y = data.target"
   ]
  },
  {
   "cell_type": "code",
   "execution_count": 3,
   "metadata": {},
   "outputs": [],
   "source": [
    "clf = tree.DecisionTreeClassifier()\n",
    "cv_score = sklearn.model_selection.cross_val_score(clf, X, y, cv=10)"
   ]
  },
  {
   "cell_type": "code",
   "execution_count": 4,
   "metadata": {},
   "outputs": [],
   "source": [
    "def write_answer_1(cv_score):\n",
    "    with open(\"c2w4task1_answer1.txt\", \"w\") as fout:\n",
    "        fout.write(str(cv_score))\n",
    "write_answer_1(cv_score.mean())"
   ]
  },
  {
   "cell_type": "code",
   "execution_count": 5,
   "metadata": {},
   "outputs": [],
   "source": [
    "bc = sklearn.ensemble.BaggingClassifier(clf, n_estimators=100)\n",
    "bc_score = sklearn.model_selection.cross_val_score(bc, X, y, cv=10)"
   ]
  },
  {
   "cell_type": "code",
   "execution_count": 6,
   "metadata": {},
   "outputs": [],
   "source": [
    "def write_answer_2(bc_score):\n",
    "    with open(\"c2w4task1_answer2.txt\", \"w\") as fout:\n",
    "        fout.write(str(bc_score))\n",
    "write_answer_2(bc_score.mean())"
   ]
  },
  {
   "cell_type": "code",
   "execution_count": 7,
   "metadata": {},
   "outputs": [],
   "source": [
    "bc_d = sklearn.ensemble.BaggingClassifier(clf, n_estimators=100, max_features=10)\n",
    "bc_d_score = sklearn.model_selection.cross_val_score(bc_d, X, y, cv=10)"
   ]
  },
  {
   "cell_type": "code",
   "execution_count": 8,
   "metadata": {},
   "outputs": [],
   "source": [
    "def write_answer_3(bc_d_score):\n",
    "    with open(\"c2w4task1_answer3.txt\", \"w\") as fout:\n",
    "        fout.write(str(bc_d_score))\n",
    "write_answer_3(bc_d_score.mean())"
   ]
  },
  {
   "cell_type": "code",
   "execution_count": 9,
   "metadata": {},
   "outputs": [],
   "source": [
    "clf = tree.DecisionTreeClassifier(max_features=10)\n",
    "bc_d = sklearn.ensemble.BaggingClassifier(clf, n_estimators=100)\n",
    "bc_d_score = sklearn.model_selection.cross_val_score(bc_d, X, y, cv=10)"
   ]
  },
  {
   "cell_type": "code",
   "execution_count": 10,
   "metadata": {},
   "outputs": [],
   "source": [
    "def write_answer_4(bc_d_score):\n",
    "    with open(\"c2w4task1_answer4.txt\", \"w\") as fout:\n",
    "        fout.write(str(bc_d_score))\n",
    "write_answer_4(bc_d_score.mean())"
   ]
  }
 ],
 "metadata": {
  "kernelspec": {
   "display_name": "Python 3",
   "language": "python",
   "name": "python3"
  },
  "language_info": {
   "codemirror_mode": {
    "name": "ipython",
    "version": 3
   },
   "file_extension": ".py",
   "mimetype": "text/x-python",
   "name": "python",
   "nbconvert_exporter": "python",
   "pygments_lexer": "ipython3",
   "version": "3.8.5"
  }
 },
 "nbformat": 4,
 "nbformat_minor": 4
}
