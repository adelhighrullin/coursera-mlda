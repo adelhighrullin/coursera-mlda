{
 "cells": [
  {
   "cell_type": "code",
   "execution_count": 1,
   "metadata": {},
   "outputs": [],
   "source": [
    "import sklearn\n",
    "from sklearn import datasets, model_selection, tree, ensemble, metrics"
   ]
  },
  {
   "cell_type": "code",
   "execution_count": 2,
   "metadata": {},
   "outputs": [],
   "source": [
    "digits = datasets.load_digits()\n",
    "breast_cancer = datasets.load_breast_cancer()"
   ]
  },
  {
   "cell_type": "code",
   "execution_count": 13,
   "metadata": {},
   "outputs": [],
   "source": [
    "X_d = digits.data\n",
    "y_d = digits.target"
   ]
  },
  {
   "cell_type": "code",
   "execution_count": 22,
   "metadata": {},
   "outputs": [
    {
     "name": "stdout",
     "output_type": "stream",
     "text": [
      "Bernoulli: 0.8241736304549674\n",
      "Multinomial: 0.8703497369235531\n",
      "Gaussian: 0.8069281956050759\n"
     ]
    }
   ],
   "source": [
    "from sklearn.naive_bayes import BernoulliNB, MultinomialNB, GaussianNB\n",
    "\n",
    "bern_d = BernoulliNB()\n",
    "mult_d = MultinomialNB()\n",
    "gaus_d = GaussianNB()\n",
    "\n",
    "cv_bern_d = sklearn.model_selection.cross_val_score(bern_d, X_d, y_d)\n",
    "print(\"Bernoulli:\", cv_bern_d.mean())\n",
    "cv_mult_d = sklearn.model_selection.cross_val_score(mult_d, X_d, y_d)\n",
    "print(\"Multinomial:\", cv_mult_d.mean())\n",
    "cv_gaus_d = sklearn.model_selection.cross_val_score(gaus_d, X_d, y_d)\n",
    "print(\"Gaussian:\", cv_gaus_d.mean())"
   ]
  },
  {
   "cell_type": "code",
   "execution_count": 12,
   "metadata": {},
   "outputs": [],
   "source": [
    "X_bc = breast_cancer.data\n",
    "y_bc = breast_cancer.target"
   ]
  },
  {
   "cell_type": "code",
   "execution_count": 23,
   "metadata": {},
   "outputs": [
    {
     "name": "stdout",
     "output_type": "stream",
     "text": [
      "Bernoulli: 0.6274181027790716\n",
      "Multinomial: 0.8963204471355379\n",
      "Gaussian: 0.9385188635305075\n"
     ]
    }
   ],
   "source": [
    "bern_bc = BernoulliNB()\n",
    "mult_bc = MultinomialNB()\n",
    "gaus_bc = GaussianNB()\n",
    "\n",
    "cv_bern_bc = sklearn.model_selection.cross_val_score(bern_bc, X_bc, y_bc)\n",
    "print(\"Bernoulli:\", cv_bern_bc.mean())\n",
    "cv_mult_bc = sklearn.model_selection.cross_val_score(mult_bc, X_bc, y_bc)\n",
    "print(\"Multinomial:\", cv_mult_bc.mean())\n",
    "cv_gaus_bc = sklearn.model_selection.cross_val_score(gaus_bc, X_bc, y_bc)\n",
    "print(\"Gaussian:\", cv_gaus_bc.mean())"
   ]
  }
 ],
 "metadata": {
  "kernelspec": {
   "display_name": "Python 3",
   "language": "python",
   "name": "python3"
  },
  "language_info": {
   "codemirror_mode": {
    "name": "ipython",
    "version": 3
   },
   "file_extension": ".py",
   "mimetype": "text/x-python",
   "name": "python",
   "nbconvert_exporter": "python",
   "pygments_lexer": "ipython3",
   "version": "3.8.5"
  }
 },
 "nbformat": 4,
 "nbformat_minor": 4
}
