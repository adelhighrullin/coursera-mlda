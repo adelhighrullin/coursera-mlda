{
 "cells": [
  {
   "cell_type": "code",
   "execution_count": 297,
   "metadata": {},
   "outputs": [
    {
     "name": "stdout",
     "output_type": "stream",
     "text": [
      "['in comparison to dogs cats have not undergone major changes during the domestication process', 'as cat simply catenates streams of bytes it can be also used to concatenate binary files where it will just concatenate sequence of bytes', 'a common interactive use of cat for a single file is to output the content of a file to standard output', 'cats can hear sounds too faint or too high in frequency for human ears such as those made by mice and other small animals', 'in one people deliberately tamed cats in a process of artificial selection as they were useful predators of vermin', 'the domesticated cat and its closest wild ancestor are both diploid organisms that possess chromosomes and roughly genes', 'domestic cats are similar in size to the other members of the genus felis typically weighing between and kg and lb', 'however if the output is piped or redirected cat is unnecessary', 'cat with one named file is safer where human error is a concern one wrong use of the default redirection symbol instead of often adjacent on keyboards may permanently delete the file you were just needing to read', 'in terms of legibility a sequence of commands starting with cat and connected by pipes has a clear left to right flow of information', 'cat command is one of the basic commands that you learned when you started in the unix linux world', 'using cat command the lines received from stdin can be redirected to a new file using redirection symbols', 'when you type simply cat command without any arguments it just receives the stdin content and displays it in the stdout', 'leopard was released on october as the successor of tiger version and is available in two editions', 'according to apple leopard contains over changes and enhancements over its predecessor mac os x tiger', 'as of mid some apple computers have firmware factory installed which will no longer allow installation of mac os x leopard', 'since apple moved to using intel processors in their computers the osx community has developed and now also allows mac os x tiger and later releases to be installed on non apple x based computers', 'os x mountain lion was released on july for purchase and download through apple s mac app store as part of a switch to releasing os x versions online and every year', 'apple has released a small patch for the three most recent versions of safari running on os x yosemite mavericks and mountain lion', 'the mountain lion release marks the second time apple has offered an incremental upgrade rather than releasing a new cat entirely', 'mac os x mountain lion installs in place so you won t need to create a separate disk or run the installation off an external drive', 'the fifth major update to mac os x leopard contains such a mountain of features more than by apple s count']\n"
     ]
    }
   ],
   "source": [
    "import re\n",
    "#step 1\n",
    "textfile = open(\"sentences.txt\", \"r\")\n",
    "textlist = list(textfile)\n",
    "textfile.close()\n",
    "for i in range(len(textlist)):\n",
    "    wordlist = list()\n",
    "    textlist[i] = textlist[i].strip().lower()\n",
    "    temp = re.split('[^a-z]', textlist[i])\n",
    "    for word in temp:\n",
    "        if word:\n",
    "            wordlist.append(word)\n",
    "    textlist[i] = \" \".join(wordlist)\n",
    "worddict = dict()\n",
    "#step 2\n",
    "for line in textlist:\n",
    "    temp = line.split()\n",
    "    #step 3\n",
    "    for word in temp:\n",
    "        word = re.split('[^a-z]', word)\n",
    "        #step 4\n",
    "        for part in word:\n",
    "            if part and part not in worddict.values():\n",
    "                worddict[len(worddict)] = part\n",
    "print(textlist)"
   ]
  },
  {
   "cell_type": "code",
   "execution_count": 303,
   "metadata": {},
   "outputs": [],
   "source": [
    "#step 5\n",
    "import numpy as np\n",
    "matrix = np.zeros((len(textlist), len(worddict)))\n",
    "for i in range(len(textlist)):\n",
    "    for j in range(len(worddict)):\n",
    "        for word in textlist[i].split():\n",
    "            k = 0\n",
    "            if word == worddict[j]:\n",
    "                k += 1\n",
    "                matrix[i][j] = k"
   ]
  },
  {
   "cell_type": "code",
   "execution_count": 304,
   "metadata": {},
   "outputs": [],
   "source": [
    "#step 6\n",
    "from scipy.spatial import distance\n",
    "coss = dict()\n",
    "for i in range(len(textlist)):\n",
    "    coss[len(coss)] = distance.cosine(matrix[0, :], matrix[i, :])\n",
    "sorted_coss = sorted(coss.items(), key = lambda x: x[1])\n",
    "outputarr = [str(sorted_coss[1][0]), str(sorted_coss[2][0])]\n",
    "outputstr = \" \".join(outputarr)\n",
    "#step 7\n",
    "output = open(\"submission-1.txt\", \"w+\")\n",
    "output.write(outputstr)\n",
    "output.close()"
   ]
  },
  {
   "cell_type": "code",
   "execution_count": null,
   "metadata": {},
   "outputs": [],
   "source": []
  }
 ],
 "metadata": {
  "kernelspec": {
   "display_name": "Python 3",
   "language": "python",
   "name": "python3"
  },
  "language_info": {
   "codemirror_mode": {
    "name": "ipython",
    "version": 3
   },
   "file_extension": ".py",
   "mimetype": "text/x-python",
   "name": "python",
   "nbconvert_exporter": "python",
   "pygments_lexer": "ipython3",
   "version": "3.8.5"
  }
 },
 "nbformat": 4,
 "nbformat_minor": 4
}
