{
 "cells": [
  {
   "cell_type": "code",
   "execution_count": 305,
   "metadata": {},
   "outputs": [],
   "source": [
    "import re\n",
    "#step 1\n",
    "textfile = open(\"sentences.txt\", \"r\")\n",
    "textlist = list(textfile)\n",
    "textfile.close()\n",
    "for i in range(len(textlist)):\n",
    "    wordlist = list()\n",
    "    textlist[i] = textlist[i].strip().lower()\n",
    "    temp = re.split('[^a-z]', textlist[i])\n",
    "    for word in temp:\n",
    "        if word:\n",
    "            wordlist.append(word)\n",
    "    textlist[i] = \" \".join(wordlist)\n",
    "worddict = dict()\n",
    "#step 2\n",
    "for line in textlist:\n",
    "    temp = line.split()\n",
    "    #step 3\n",
    "    for word in temp:\n",
    "        word = re.split('[^a-z]', word)\n",
    "        #step 4\n",
    "        for part in word:\n",
    "            if part and part not in worddict.values():\n",
    "                worddict[len(worddict)] = part"
   ]
  },
  {
   "cell_type": "code",
   "execution_count": 306,
   "metadata": {},
   "outputs": [],
   "source": [
    "#step 5\n",
    "import numpy as np\n",
    "matrix = np.zeros((len(textlist), len(worddict)))\n",
    "for i in range(len(textlist)):\n",
    "    for j in range(len(worddict)):\n",
    "        for word in textlist[i].split():\n",
    "            k = 0\n",
    "            if word == worddict[j]:\n",
    "                k += 1\n",
    "                matrix[i][j] = k"
   ]
  },
  {
   "cell_type": "code",
   "execution_count": 309,
   "metadata": {},
   "outputs": [],
   "source": [
    "#step 6\n",
    "from scipy.spatial import distance\n",
    "coss = dict()\n",
    "for i in range(len(textlist)):\n",
    "    coss[len(coss)] = distance.cosine(matrix[0, :], matrix[i, :])\n",
    "sorted_coss = sorted(coss.items(), key = lambda x: x[1])\n",
    "outputarr = [str(sorted_coss[1][0]), str(sorted_coss[2][0])]\n",
    "outputstr = \" \".join(outputarr)\n",
    "#step 7\n",
    "output = open(\"submission-1.txt\", \"w+\")\n",
    "output.write(outputstr)\n",
    "output.close()"
   ]
  },
  {
   "cell_type": "code",
   "execution_count": null,
   "metadata": {},
   "outputs": [],
   "source": []
  }
 ],
 "metadata": {
  "kernelspec": {
   "display_name": "Python 3",
   "language": "python",
   "name": "python3"
  },
  "language_info": {
   "codemirror_mode": {
    "name": "ipython",
    "version": 3
   },
   "file_extension": ".py",
   "mimetype": "text/x-python",
   "name": "python",
   "nbconvert_exporter": "python",
   "pygments_lexer": "ipython3",
   "version": "3.8.5"
  }
 },
 "nbformat": 4,
 "nbformat_minor": 4
}
