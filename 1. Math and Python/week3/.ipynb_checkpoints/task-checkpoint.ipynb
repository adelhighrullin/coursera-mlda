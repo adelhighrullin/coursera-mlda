{
 "cells": [
  {
   "cell_type": "code",
   "execution_count": 2,
   "metadata": {},
   "outputs": [],
   "source": [
    "import math\n",
    "def f(x):\n",
    "    # f(x) = sin(x / 5) * exp(x / 10) + 5 * exp(-x / 2)\n",
    "    return math.sin(float(x) / 5.) * math.exp(float(x) / 10.) + 5 * math.exp(float(-x) / 2.)\n",
    "import numpy as np\n",
    "x = np.arange(1, 31)"
   ]
  },
  {
   "cell_type": "code",
   "execution_count": 4,
   "metadata": {},
   "outputs": [
    {
     "name": "stdout",
     "output_type": "stream",
     "text": [
      "      fun: -11.898894665981285\n",
      " hess_inv: array([[1.67932484]])\n",
      "      jac: array([2.38418579e-07])\n",
      "  message: 'Optimization terminated successfully.'\n",
      "     nfev: 14\n",
      "      nit: 6\n",
      "     njev: 7\n",
      "   status: 0\n",
      "  success: True\n",
      "        x: array([25.88019339])\n"
     ]
    }
   ],
   "source": [
    "#task 1\n",
    "import scipy.optimize\n",
    "print(scipy.optimize.minimize(f, 30, method=\"BFGS\"))"
   ]
  },
  {
   "cell_type": "code",
   "execution_count": 11,
   "metadata": {},
   "outputs": [
    {
     "name": "stdout",
     "output_type": "stream",
     "text": [
      "     fun: -11.898894665981315\n",
      "     jac: array([1.77635669e-07])\n",
      " message: 'Optimization terminated successfully.'\n",
      "    nfev: 83\n",
      "     nit: 4\n",
      " success: True\n",
      "       x: array([25.88019318])\n"
     ]
    }
   ],
   "source": [
    "#task 2\n",
    "print(scipy.optimize.differential_evolution(f, [(1, 30)]))"
   ]
  },
  {
   "cell_type": "code",
   "execution_count": 24,
   "metadata": {},
   "outputs": [
    {
     "name": "stdout",
     "output_type": "stream",
     "text": [
      "      fun: -5\n",
      " hess_inv: array([[1]])\n",
      "      jac: array([0.])\n",
      "  message: 'Optimization terminated successfully.'\n",
      "     nfev: 2\n",
      "      nit: 0\n",
      "     njev: 1\n",
      "   status: 0\n",
      "  success: True\n",
      "        x: array([30.])\n",
      "\n",
      "\n",
      "\n",
      "     fun: -11.0\n",
      " message: 'Optimization terminated successfully.'\n",
      "    nfev: 107\n",
      "     nit: 6\n",
      " success: True\n",
      "       x: array([26.32736382])\n"
     ]
    },
    {
     "data": {
      "image/png": "[encoded data removed]",
      "text/plain": [
       "<Figure size 432x288 with 1 Axes>"
      ]
     },
     "metadata": {
      "needs_background": "light"
     },
     "output_type": "display_data"
    }
   ],
   "source": [
    "#task 3\n",
    "def h(x):\n",
    "    return int(f(x))\n",
    "import matplotlib.pyplot as plt\n",
    "hx = list()\n",
    "for number in x:\n",
    "    hx.append(h(number))\n",
    "plt.plot(x, hx)\n",
    "print(scipy.optimize.minimize(h, 30, method=\"BFGS\"))\n",
    "print(\"\\n\\n\")\n",
    "print(scipy.optimize.differential_evolution(h, [(1, 30)]))"
   ]
  },
  {
   "cell_type": "code",
   "execution_count": null,
   "metadata": {},
   "outputs": [],
   "source": []
  }
 ],
 "metadata": {
  "kernelspec": {
   "display_name": "Python 3",
   "language": "python",
   "name": "python3"
  },
  "language_info": {
   "codemirror_mode": {
    "name": "ipython",
    "version": 3
   },
   "file_extension": ".py",
   "mimetype": "text/x-python",
   "name": "python",
   "nbconvert_exporter": "python",
   "pygments_lexer": "ipython3",
   "version": "3.8.5"
  }
 },
 "nbformat": 4,
 "nbformat_minor": 4
}
